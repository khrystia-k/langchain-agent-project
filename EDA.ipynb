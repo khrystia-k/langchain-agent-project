{
 "cells": [
  {
   "cell_type": "code",
   "execution_count": 1,
   "metadata": {},
   "outputs": [],
   "source": [
    "import os\n",
    "\n",
    "import kagglehub\n",
    "import matplotlib.pyplot as plt\n",
    "import pandas as pd"
   ]
  },
  {
   "cell_type": "code",
   "execution_count": 2,
   "metadata": {},
   "outputs": [],
   "source": [
    "directory_path = kagglehub.dataset_download(\n",
    "    \"tanishqdublish/text-classification-documentation\"\n",
    ")\n",
    "csv_file_path = os.path.join(directory_path, \"df_file.csv\")"
   ]
  },
  {
   "cell_type": "code",
   "execution_count": 3,
   "metadata": {},
   "outputs": [
    {
     "data": {
      "text/plain": [
       "<bound method NDFrame.head of                                                    Text  Label\n",
       "0     Budget to set scene for election\\n \\n Gordon B...      0\n",
       "1     Army chiefs in regiments decision\\n \\n Militar...      0\n",
       "2     Howard denies split over ID cards\\n \\n Michael...      0\n",
       "3     Observers to monitor UK election\\n \\n Minister...      0\n",
       "4     Kilroy names election seat target\\n \\n Ex-chat...      0\n",
       "...                                                 ...    ...\n",
       "2220  India opens skies to competition\\n \\n India wi...      4\n",
       "2221  Yukos bankruptcy 'not US matter'\\n \\n Russian ...      4\n",
       "2222  Survey confirms property slowdown\\n \\n Governm...      4\n",
       "2223  High fuel prices hit BA's profits\\n \\n British...      4\n",
       "2224  US trade gap hits record in 2004\\n \\n The gap ...      4\n",
       "\n",
       "[2225 rows x 2 columns]>"
      ]
     },
     "execution_count": 3,
     "metadata": {},
     "output_type": "execute_result"
    }
   ],
   "source": [
    "df = pd.read_csv(csv_file_path)\n",
    "df.head"
   ]
  },
  {
   "cell_type": "code",
   "execution_count": 4,
   "metadata": {},
   "outputs": [
    {
     "data": {
      "text/plain": [
       "Index(['Text', 'Label'], dtype='object')"
      ]
     },
     "execution_count": 4,
     "metadata": {},
     "output_type": "execute_result"
    }
   ],
   "source": [
    "df.columns"
   ]
  },
  {
   "cell_type": "code",
   "execution_count": 5,
   "metadata": {},
   "outputs": [
    {
     "name": "stdout",
     "output_type": "stream",
     "text": [
      "Budget to set scene for election\n",
      " \n",
      " Gordon Brown will seek to put the economy at the centre of Labour's bid for a third term in power when he delivers his ninth Budget at 1230 GMT. He is expected to stress the importance of continued economic stability, with low unemployment and interest rates. The chancellor is expected to freeze petrol duty and raise the stamp duty threshold from Â£60,000. But the Conservatives and Lib Dems insist voters face higher taxes and more means-testing under Labour.\n",
      " \n",
      " Treasury officials have said there will not be a pre-election giveaway, but Mr Brown is thought to have about Â£2bn to spare.\n",
      " \n",
      " - Increase in the stamp duty threshold from Â£60,000 \n",
      "  - A freeze on petrol duty \n",
      "  - An extension of tax credit scheme for poorer families \n",
      "  - Possible help for pensioners The stamp duty threshold rise is intended to help first time buyers - a likely theme of all three of the main parties' general election manifestos. Ten years ago, buyers had a much greater chance of avoiding stamp duty, with close to half a million properties, in England and Wales alone, selling for less than Â£60,000. Since then, average UK property prices have more than doubled while the starting threshold for stamp duty has not increased. Tax credits As a result, the number of properties incurring stamp duty has rocketed as has the government's tax take. The Liberal Democrats unveiled their own proposals to raise the stamp duty threshold to Â£150,000 in February.\n",
      " \n",
      " The Tories are also thought likely to propose increased thresholds, with shadow chancellor Oliver Letwin branding stamp duty a \"classic Labour stealth tax\". The Tories say whatever the chancellor gives away will be clawed back in higher taxes if Labour is returned to power. Shadow Treasury chief secretary George Osborne said: \"Everyone who looks at the British economy at the moment says there has been a sharp deterioration in the public finances, that there is a black hole,\" he said. \"If Labour is elected there will be a very substantial tax increase in the Budget after the election, of the order of around Â£10bn.\"\n",
      " \n",
      " But Mr Brown's former advisor Ed Balls, now a parliamentary hopeful, said an examination of Tory plans for the economy showed there would be a Â£35bn difference in investment by the end of the next parliament between the two main parties. He added: \"I don't accept there is any need for any changes to the plans we have set out to meet our spending commitments.\"\n",
      " \n",
      " For the Lib Dems David Laws said: \"The chancellor will no doubt tell us today how wonderfully the economy is doing,\" he said. \"But a lot of that is built on an increase in personal and consumer debt over the last few years - that makes the economy quite vulnerable potentially if interest rates ever do have to go up in a significant way.\" SNP leader Alex Salmond said his party would introduce a Â£2,000 grant for first time buyers, reduce corporation tax and introduce a citizens pension free from means testing. Plaid Cymru's economics spokesman Adam Price said he wanted help to get people on the housing ladder and an increase in the minimum wage to Â£5.60 an hour.\n",
      "\n"
     ]
    }
   ],
   "source": [
    "print(df[\"Text\"][0])"
   ]
  },
  {
   "cell_type": "code",
   "execution_count": 6,
   "metadata": {},
   "outputs": [
    {
     "name": "stdout",
     "output_type": "stream",
     "text": [
      "Length of first 10 text in the dataset:\n",
      "3147\n",
      "3026\n",
      "3167\n",
      "3094\n",
      "2614\n",
      "2792\n",
      "2899\n",
      "2394\n",
      "3002\n",
      "2152\n"
     ]
    }
   ],
   "source": [
    "print(\"Length of first 10 text in the dataset:\")\n",
    "for i in range(10):\n",
    "    print(len(df[\"Text\"][i]))"
   ]
  },
  {
   "cell_type": "code",
   "execution_count": 7,
   "metadata": {},
   "outputs": [
    {
     "name": "stdout",
     "output_type": "stream",
     "text": [
      "Number of words in first 10 text in the dataset:\n",
      "550\n",
      "504\n",
      "547\n",
      "502\n",
      "445\n",
      "468\n",
      "461\n",
      "404\n",
      "520\n",
      "340\n"
     ]
    }
   ],
   "source": [
    "print(\"Number of words in first 10 text in the dataset:\")\n",
    "for i in range(10):\n",
    "    print(len(df[\"Text\"][i].strip().split(\" \")))"
   ]
  },
  {
   "cell_type": "markdown",
   "metadata": {},
   "source": [
    "## Check for Duplicates"
   ]
  },
  {
   "cell_type": "code",
   "execution_count": 15,
   "metadata": {},
   "outputs": [
    {
     "name": "stdout",
     "output_type": "stream",
     "text": [
      "True\n"
     ]
    }
   ],
   "source": [
    "has_duplicates = df.duplicated(subset=[\"Text\"]).any()\n",
    "print(has_duplicates)"
   ]
  },
  {
   "cell_type": "code",
   "execution_count": 14,
   "metadata": {},
   "outputs": [
    {
     "name": "stdout",
     "output_type": "stream",
     "text": [
      "                                                   Text  Label\n",
      "59    Blair backs 'pre-election budget'\\n \\n Tony Bl...      0\n",
      "155   'Debate needed' on donations cap\\n \\n A cap on...      0\n",
      "186   Howard denies split over ID cards\\n \\n Michael...      0\n",
      "216   Kennedy questions trust of Blair\\n \\n Lib Dem ...      0\n",
      "226   Fox attacks Blair's Tory 'lies'\\n \\n Tony Blai...      0\n",
      "...                                                 ...    ...\n",
      "1954  S Korea spending boost to economy\\n \\n South K...      4\n",
      "1992  Jobs growth still slow in the US\\n \\n The US c...      4\n",
      "2105  Steady job growth continues in US\\n \\n The US ...      4\n",
      "2186  SEC to rethink post-Enron rules\\n \\n The US st...      4\n",
      "2211  Economy 'strong' in election year\\n \\n UK busi...      4\n",
      "\n",
      "[98 rows x 2 columns]\n"
     ]
    }
   ],
   "source": [
    "duplicates = df[df.duplicated(subset=[\"Text\"])]\n",
    "print(duplicates)"
   ]
  },
  {
   "cell_type": "code",
   "execution_count": null,
   "metadata": {},
   "outputs": [],
   "source": [
    "df.drop_duplicates(subset=[\"Text\"], inplace=True)"
   ]
  },
  {
   "cell_type": "markdown",
   "metadata": {},
   "source": [
    "## Check for NaNs"
   ]
  },
  {
   "cell_type": "code",
   "execution_count": 21,
   "metadata": {},
   "outputs": [
    {
     "name": "stdout",
     "output_type": "stream",
     "text": [
      "Text     0\n",
      "Label    0\n",
      "dtype: int64\n"
     ]
    }
   ],
   "source": [
    "nan_count_per_column = df.isna().sum()\n",
    "print(nan_count_per_column)"
   ]
  },
  {
   "cell_type": "markdown",
   "metadata": {},
   "source": [
    "## Class distribution"
   ]
  },
  {
   "cell_type": "markdown",
   "metadata": {},
   "source": [
    "Label Mapping:\n",
    "\n",
    "- **Politics**: `0`\n",
    "- **Sport**: `1`\n",
    "- **Technology**: `2`\n",
    "- **Entertainment**: `3`\n",
    "- **Business**: `4`"
   ]
  },
  {
   "cell_type": "code",
   "execution_count": 18,
   "metadata": {},
   "outputs": [
    {
     "data": {
      "image/png": "[encoded data removed]",
      "text/plain": [
       "<Figure size 800x500 with 1 Axes>"
      ]
     },
     "metadata": {},
     "output_type": "display_data"
    }
   ],
   "source": [
    "label_counts = df[\"Label\"].value_counts(normalize=True) * 100\n",
    "\n",
    "plt.figure(figsize=(8, 5))\n",
    "label_counts.sort_index().plot(kind=\"bar\", color=\"green\", alpha=0.8, edgecolor=\"black\")\n",
    "plt.title(\"Class Distribution in Percentage\", fontsize=14)\n",
    "plt.xlabel(\"Class\", fontsize=12)\n",
    "plt.ylabel(\"Percentage (%)\", fontsize=12)\n",
    "plt.xticks(rotation=0)\n",
    "plt.grid(axis=\"y\", linestyle=\"--\", alpha=0.7)\n",
    "plt.show()"
   ]
  },
  {
   "cell_type": "code",
   "execution_count": 19,
   "metadata": {},
   "outputs": [
    {
     "name": "stdout",
     "output_type": "stream",
     "text": [
      "Class distribution in percentage: \n",
      " Label\n",
      "1    23.742360\n",
      "4    23.648331\n",
      "0    18.946874\n",
      "3    17.348378\n",
      "2    16.314057\n",
      "Name: proportion, dtype: float64\n"
     ]
    }
   ],
   "source": [
    "print(\"Class distribution in percentage: \\n\", label_counts)"
   ]
  }
 ],
 "metadata": {
  "kernelspec": {
   "display_name": "Python 3",
   "language": "python",
   "name": "python3"
  },
  "language_info": {
   "codemirror_mode": {
    "name": "ipython",
    "version": 3
   },
   "file_extension": ".py",
   "mimetype": "text/x-python",
   "name": "python",
   "nbconvert_exporter": "python",
   "pygments_lexer": "ipython3",
   "version": "3.10.4"
  }
 },
 "nbformat": 4,
 "nbformat_minor": 2
}

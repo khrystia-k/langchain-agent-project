{
 "cells": [
  {
   "cell_type": "code",
   "execution_count": 6,
   "metadata": {},
   "outputs": [
    {
     "data": {
      "text/plain": [
       "True"
      ]
     },
     "execution_count": 6,
     "metadata": {},
     "output_type": "execute_result"
    }
   ],
   "source": [
    "import openai\n",
    "import pandas as pd\n",
    "from tqdm import tqdm\n",
    "from dotenv import load_dotenv\n",
    "import os\n",
    "import kagglehub\n",
    "from sklearn.model_selection import train_test_split\n",
    "\n",
    "load_dotenv()"
   ]
  },
  {
   "cell_type": "code",
   "execution_count": 4,
   "metadata": {},
   "outputs": [
    {
     "name": "stdout",
     "output_type": "stream",
     "text": [
      "Warning: Looks like you're using an outdated `kagglehub` version (installed: 0.3.6), please consider upgrading to the latest version (0.3.7).\n"
     ]
    },
    {
     "data": {
      "text/plain": [
       "<bound method NDFrame.head of                                                    Text  Label\n",
       "0     Budget to set scene for election\\n \\n Gordon B...      0\n",
       "1     Army chiefs in regiments decision\\n \\n Militar...      0\n",
       "2     Howard denies split over ID cards\\n \\n Michael...      0\n",
       "3     Observers to monitor UK election\\n \\n Minister...      0\n",
       "4     Kilroy names election seat target\\n \\n Ex-chat...      0\n",
       "...                                                 ...    ...\n",
       "2220  India opens skies to competition\\n \\n India wi...      4\n",
       "2221  Yukos bankruptcy 'not US matter'\\n \\n Russian ...      4\n",
       "2222  Survey confirms property slowdown\\n \\n Governm...      4\n",
       "2223  High fuel prices hit BA's profits\\n \\n British...      4\n",
       "2224  US trade gap hits record in 2004\\n \\n The gap ...      4\n",
       "\n",
       "[2225 rows x 2 columns]>"
      ]
     },
     "execution_count": 4,
     "metadata": {},
     "output_type": "execute_result"
    }
   ],
   "source": [
    "directory_path = kagglehub.dataset_download(\n",
    "    \"tanishqdublish/text-classification-documentation\"\n",
    ")\n",
    "csv_file_path = os.path.join(directory_path, \"df_file.csv\")\n",
    "df = pd.read_csv(csv_file_path)\n",
    "df.head"
   ]
  },
  {
   "cell_type": "code",
   "execution_count": 5,
   "metadata": {},
   "outputs": [],
   "source": [
    "df.drop_duplicates(subset=[\"Text\"], inplace=True)"
   ]
  },
  {
   "cell_type": "code",
   "execution_count": 11,
   "metadata": {},
   "outputs": [
    {
     "data": {
      "text/plain": [
       "701"
      ]
     },
     "execution_count": 11,
     "metadata": {},
     "output_type": "execute_result"
    }
   ],
   "source": [
    "df_700, temp = train_test_split(df, test_size=0.67, stratify=df[\"Label\"])\n",
    "len(df_700)"
   ]
  },
  {
   "cell_type": "code",
   "execution_count": 17,
   "metadata": {},
   "outputs": [],
   "source": [
    "openai.api_key = os.getenv(\"OPENAI_API_KEY\")\n",
    "\n",
    "\n",
    "def translate_text(text):\n",
    "    prompt = f\"Translate the following English text into Ukrainian:\\n\\n{text}\"\n",
    "\n",
    "    response = openai.chat.completions.create(\n",
    "        model=\"gpt-4o-mini\",\n",
    "        messages=[{\"role\": \"user\", \"content\": prompt}],\n",
    "        max_tokens=2000,\n",
    "    )\n",
    "\n",
    "    return response.choices[0].message.content"
   ]
  },
  {
   "cell_type": "code",
   "execution_count": 19,
   "metadata": {},
   "outputs": [
    {
     "name": "stderr",
     "output_type": "stream",
     "text": [
      "100%|██████████| 701/701 [3:43:58<00:00, 19.17s/it]  "
     ]
    },
    {
     "name": "stdout",
     "output_type": "stream",
     "text": [
      "Translation completed and saved!\n"
     ]
    },
    {
     "name": "stderr",
     "output_type": "stream",
     "text": [
      "\n"
     ]
    }
   ],
   "source": [
    "tqdm.pandas()\n",
    "df_700[\"translated_text\"] = df_700[\"Text\"].progress_apply(translate_text)\n",
    "\n",
    "\n",
    "print(\"Translation completed and saved!\")"
   ]
  },
  {
   "cell_type": "code",
   "execution_count": 22,
   "metadata": {},
   "outputs": [],
   "source": [
    "df_700[\"Label\"] = df_700[\"Label\"].replace(\n",
    "    {\n",
    "        \"Politics\": \"Політика\",\n",
    "        \"Sport\": \"Спорт\",\n",
    "        \"Technology\": \"Технології\",\n",
    "        \"Entertainment\": \"Розваги\",\n",
    "        \"Business\": \"Бізнес\",\n",
    "    }\n",
    ")\n",
    "\n",
    "df_700 = df_700[[\"Label\", \"translated_text\"]].rename(\n",
    "    columns={\"translated_text\": \"text\"}\n",
    ")"
   ]
  },
  {
   "cell_type": "code",
   "execution_count": 23,
   "metadata": {},
   "outputs": [
    {
     "data": {
      "text/plain": [
       "<bound method NDFrame.head of       Label                                               text\n",
       "131       0  Доповідь про напади на витрати на оборону\\n\\nМ...\n",
       "2157      4  Бразилія зменшує значення порятунку Varig\\n\\nУ...\n",
       "219       0  Джемісон попереджає великих біготів\\n\\nМіністр...\n",
       "682       1  Чарвіс, ймовірно, не зможе відновитися до матч...\n",
       "2166      4  Азійські акції не піддаються постземлетрусному...\n",
       "...     ...                                                ...\n",
       "1500      3  Гімн благодійності США повторно випущено\\n\\nWe...\n",
       "784       1  Венгер підтримує Альмунію\\n\\nАрсен Венгер пооб...\n",
       "1977      4  Unilever зазнає змін через падіння прибутку\\n\\...\n",
       "511       1  Тигри обережні щодо \"ризику\" з Фарреллом\\n\\nЛе...\n",
       "112       0  Ліберальні демократи націлюються на покупців в...\n",
       "\n",
       "[701 rows x 2 columns]>"
      ]
     },
     "execution_count": 23,
     "metadata": {},
     "output_type": "execute_result"
    }
   ],
   "source": [
    "df_700.head"
   ]
  },
  {
   "cell_type": "code",
   "execution_count": 24,
   "metadata": {},
   "outputs": [],
   "source": [
    "df_700.to_csv(\"ukr_dataset.csv\", index=False)"
   ]
  }
 ],
 "metadata": {
  "kernelspec": {
   "display_name": "Python 3",
   "language": "python",
   "name": "python3"
  },
  "language_info": {
   "codemirror_mode": {
    "name": "ipython",
    "version": 3
   },
   "file_extension": ".py",
   "mimetype": "text/x-python",
   "name": "python",
   "nbconvert_exporter": "python",
   "pygments_lexer": "ipython3",
   "version": "3.10.4"
  }
 },
 "nbformat": 4,
 "nbformat_minor": 2
}

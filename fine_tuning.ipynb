{
 "cells": [
  {
   "cell_type": "code",
   "execution_count": null,
   "metadata": {
    "trusted": true
   },
   "outputs": [],
   "source": [
    "# !pip install huggingface_hub\n",
    "# !pip install peft==0.14.0"
   ]
  },
  {
   "cell_type": "code",
   "execution_count": 2,
   "metadata": {
    "execution": {
     "iopub.execute_input": "2025-01-28T18:46:21.925819Z",
     "iopub.status.busy": "2025-01-28T18:46:21.925501Z",
     "iopub.status.idle": "2025-01-28T18:46:36.722495Z",
     "shell.execute_reply": "2025-01-28T18:46:36.721604Z",
     "shell.execute_reply.started": "2025-01-28T18:46:21.925790Z"
    },
    "trusted": true
   },
   "outputs": [],
   "source": [
    "import matplotlib.pyplot as plt\n",
    "import pandas as pd\n",
    "from datasets import Dataset\n",
    "from peft import LoraConfig, get_peft_model\n",
    "from sklearn.metrics import accuracy_score, f1_score\n",
    "from sklearn.model_selection import train_test_split\n",
    "from transformers import (\n",
    "    AutoModelForSequenceClassification,\n",
    "    DataCollatorWithPadding,\n",
    "    RobertaTokenizer,\n",
    "    Trainer,\n",
    "    TrainingArguments,\n",
    ")"
   ]
  },
  {
   "cell_type": "code",
   "execution_count": 3,
   "metadata": {
    "execution": {
     "iopub.execute_input": "2025-01-28T18:46:36.724763Z",
     "iopub.status.busy": "2025-01-28T18:46:36.724143Z",
     "iopub.status.idle": "2025-01-28T18:46:36.940947Z",
     "shell.execute_reply": "2025-01-28T18:46:36.940022Z",
     "shell.execute_reply.started": "2025-01-28T18:46:36.724739Z"
    },
    "trusted": true
   },
   "outputs": [
    {
     "data": {
      "text/plain": [
       "<bound method NDFrame.head of                                                    Text  Label\n",
       "0     Budget to set scene for election\\n \\n Gordon B...      0\n",
       "1     Army chiefs in regiments decision\\n \\n Militar...      0\n",
       "2     Howard denies split over ID cards\\n \\n Michael...      0\n",
       "3     Observers to monitor UK election\\n \\n Minister...      0\n",
       "4     Kilroy names election seat target\\n \\n Ex-chat...      0\n",
       "...                                                 ...    ...\n",
       "2220  India opens skies to competition\\n \\n India wi...      4\n",
       "2221  Yukos bankruptcy 'not US matter'\\n \\n Russian ...      4\n",
       "2222  Survey confirms property slowdown\\n \\n Governm...      4\n",
       "2223  High fuel prices hit BA's profits\\n \\n British...      4\n",
       "2224  US trade gap hits record in 2004\\n \\n The gap ...      4\n",
       "\n",
       "[2225 rows x 2 columns]>"
      ]
     },
     "execution_count": 3,
     "metadata": {},
     "output_type": "execute_result"
    }
   ],
   "source": [
    "path = \"/kaggle/input/text-classification-documentation/df_file.csv\"\n",
    "df = pd.read_csv(path)\n",
    "df.head"
   ]
  },
  {
   "cell_type": "code",
   "execution_count": 4,
   "metadata": {
    "execution": {
     "iopub.execute_input": "2025-01-28T18:46:36.942825Z",
     "iopub.status.busy": "2025-01-28T18:46:36.942475Z",
     "iopub.status.idle": "2025-01-28T18:46:36.954624Z",
     "shell.execute_reply": "2025-01-28T18:46:36.953641Z",
     "shell.execute_reply.started": "2025-01-28T18:46:36.942791Z"
    },
    "trusted": true
   },
   "outputs": [],
   "source": [
    "# Dropping duplicates\n",
    "df.drop_duplicates(subset=[\"Text\"], inplace=True)"
   ]
  },
  {
   "cell_type": "markdown",
   "metadata": {},
   "source": [
    "## Split to train, validation and test "
   ]
  },
  {
   "cell_type": "code",
   "execution_count": 5,
   "metadata": {
    "execution": {
     "iopub.execute_input": "2025-01-28T18:46:36.955893Z",
     "iopub.status.busy": "2025-01-28T18:46:36.955461Z",
     "iopub.status.idle": "2025-01-28T18:46:36.985295Z",
     "shell.execute_reply": "2025-01-28T18:46:36.984352Z",
     "shell.execute_reply.started": "2025-01-28T18:46:36.955858Z"
    },
    "trusted": true
   },
   "outputs": [
    {
     "name": "stdout",
     "output_type": "stream",
     "text": [
      "Train:  446\n",
      "Validation:  168\n",
      "Test:  151\n"
     ]
    }
   ],
   "source": [
    "train, temp = train_test_split(df, test_size=0.79, stratify=df[\"Label\"])\n",
    "valid, temp = train_test_split(temp, test_size=0.9, stratify=temp[\"Label\"])\n",
    "test, temp = train_test_split(temp, test_size=0.9, stratify=temp[\"Label\"])\n",
    "\n",
    "print(\"Train: \", len(train))\n",
    "print(\"Validation: \", len(valid))\n",
    "print(\"Test: \", len(test))"
   ]
  },
  {
   "cell_type": "code",
   "execution_count": 6,
   "metadata": {
    "execution": {
     "iopub.execute_input": "2025-01-28T18:46:36.986550Z",
     "iopub.status.busy": "2025-01-28T18:46:36.986218Z",
     "iopub.status.idle": "2025-01-28T18:46:36.999114Z",
     "shell.execute_reply": "2025-01-28T18:46:36.998273Z",
     "shell.execute_reply.started": "2025-01-28T18:46:36.986510Z"
    },
    "trusted": true
   },
   "outputs": [
    {
     "data": {
      "text/plain": [
       "Label\n",
       "1    23.766816\n",
       "4    23.542601\n",
       "0    19.058296\n",
       "3    17.264574\n",
       "2    16.367713\n",
       "Name: proportion, dtype: float64"
      ]
     },
     "execution_count": 6,
     "metadata": {},
     "output_type": "execute_result"
    }
   ],
   "source": [
    "label_counts = train[\"Label\"].value_counts(normalize=True) * 100\n",
    "label_counts"
   ]
  },
  {
   "cell_type": "code",
   "execution_count": 7,
   "metadata": {
    "execution": {
     "iopub.execute_input": "2025-01-28T18:46:37.000187Z",
     "iopub.status.busy": "2025-01-28T18:46:36.999917Z",
     "iopub.status.idle": "2025-01-28T18:46:37.045557Z",
     "shell.execute_reply": "2025-01-28T18:46:37.044713Z",
     "shell.execute_reply.started": "2025-01-28T18:46:37.000160Z"
    },
    "trusted": true
   },
   "outputs": [],
   "source": [
    "train = Dataset.from_pandas(train)\n",
    "valid = Dataset.from_pandas(valid)\n",
    "test = Dataset.from_pandas(test)"
   ]
  },
  {
   "cell_type": "code",
   "execution_count": null,
   "metadata": {
    "execution": {
     "iopub.execute_input": "2025-01-28T18:46:37.047923Z",
     "iopub.status.busy": "2025-01-28T18:46:37.047723Z",
     "iopub.status.idle": "2025-01-28T18:46:39.306008Z",
     "shell.execute_reply": "2025-01-28T18:46:39.305112Z",
     "shell.execute_reply.started": "2025-01-28T18:46:37.047907Z"
    },
    "trusted": true
   },
   "outputs": [],
   "source": [
    "base_model = \"roberta-base\"\n",
    "tokenizer = RobertaTokenizer.from_pretrained(base_model)"
   ]
  },
  {
   "cell_type": "code",
   "execution_count": 9,
   "metadata": {
    "execution": {
     "iopub.execute_input": "2025-01-28T18:46:39.307424Z",
     "iopub.status.busy": "2025-01-28T18:46:39.307081Z",
     "iopub.status.idle": "2025-01-28T18:46:39.311445Z",
     "shell.execute_reply": "2025-01-28T18:46:39.310504Z",
     "shell.execute_reply.started": "2025-01-28T18:46:39.307373Z"
    },
    "trusted": true
   },
   "outputs": [],
   "source": [
    "def tokenize(df):\n",
    "    return tokenizer(df[\"Text\"], padding=True, truncation=True)"
   ]
  },
  {
   "cell_type": "code",
   "execution_count": null,
   "metadata": {
    "execution": {
     "iopub.execute_input": "2025-01-28T18:46:39.312582Z",
     "iopub.status.busy": "2025-01-28T18:46:39.312285Z",
     "iopub.status.idle": "2025-01-28T18:46:45.505244Z",
     "shell.execute_reply": "2025-01-28T18:46:45.504582Z",
     "shell.execute_reply.started": "2025-01-28T18:46:39.312562Z"
    },
    "trusted": true
   },
   "outputs": [],
   "source": [
    "train = train.map(tokenize, batched=True, batch_size=len(train))\n",
    "valid = valid.map(tokenize, batched=True, batch_size=len(valid))\n",
    "test = test.map(tokenize, batched=True, batch_size=len(test))"
   ]
  },
  {
   "cell_type": "code",
   "execution_count": 11,
   "metadata": {
    "execution": {
     "iopub.execute_input": "2025-01-28T18:46:45.506323Z",
     "iopub.status.busy": "2025-01-28T18:46:45.506040Z",
     "iopub.status.idle": "2025-01-28T18:46:45.515908Z",
     "shell.execute_reply": "2025-01-28T18:46:45.514971Z",
     "shell.execute_reply.started": "2025-01-28T18:46:45.506289Z"
    },
    "trusted": true
   },
   "outputs": [],
   "source": [
    "train = train.rename_column(\"Label\", \"label\")\n",
    "valid = valid.rename_column(\"Label\", \"label\")\n",
    "test = test.rename_column(\"Label\", \"label\")\n",
    "\n",
    "train.set_format(\"torch\", columns=[\"input_ids\", \"attention_mask\", \"label\"])\n",
    "valid.set_format(\"torch\", columns=[\"input_ids\", \"attention_mask\", \"label\"])\n",
    "test.set_format(\"torch\", columns=[\"input_ids\", \"attention_mask\", \"label\"])"
   ]
  },
  {
   "cell_type": "code",
   "execution_count": 12,
   "metadata": {
    "execution": {
     "iopub.execute_input": "2025-01-28T18:46:45.516876Z",
     "iopub.status.busy": "2025-01-28T18:46:45.516686Z",
     "iopub.status.idle": "2025-01-28T18:46:45.530048Z",
     "shell.execute_reply": "2025-01-28T18:46:45.529368Z",
     "shell.execute_reply.started": "2025-01-28T18:46:45.516859Z"
    },
    "trusted": true
   },
   "outputs": [
    {
     "data": {
      "text/plain": [
       "{0: 'Politics', 1: 'Sport', 2: 'Technology', 3: 'Entertainment', 4: 'Business'}"
      ]
     },
     "execution_count": 12,
     "metadata": {},
     "output_type": "execute_result"
    }
   ],
   "source": [
    "class_names = [\"Politics\", \"Sport\", \"Technology\", \"Entertainment\", \"Business\"]\n",
    "id2label = {i: label for i, label in enumerate(class_names)}\n",
    "id2label"
   ]
  },
  {
   "cell_type": "markdown",
   "metadata": {},
   "source": [
    "## Training"
   ]
  },
  {
   "cell_type": "code",
   "execution_count": null,
   "metadata": {
    "execution": {
     "iopub.execute_input": "2025-01-28T18:46:45.531091Z",
     "iopub.status.busy": "2025-01-28T18:46:45.530871Z",
     "iopub.status.idle": "2025-01-28T18:46:48.383453Z",
     "shell.execute_reply": "2025-01-28T18:46:48.382664Z",
     "shell.execute_reply.started": "2025-01-28T18:46:45.531060Z"
    },
    "trusted": true
   },
   "outputs": [],
   "source": [
    "model = AutoModelForSequenceClassification.from_pretrained(\n",
    "    base_model, id2label=id2label\n",
    ")\n",
    "\n",
    "peft_config = LoraConfig(\n",
    "    task_type=\"SEQ_CLS\", inference_mode=False, r=8, lora_alpha=16, lora_dropout=0.1\n",
    ")\n",
    "peft_model = get_peft_model(model, peft_config)\n",
    "\n",
    "data_collator = DataCollatorWithPadding(tokenizer=tokenizer, return_tensors=\"pt\")"
   ]
  },
  {
   "cell_type": "code",
   "execution_count": 14,
   "metadata": {
    "execution": {
     "iopub.execute_input": "2025-01-28T18:46:48.384608Z",
     "iopub.status.busy": "2025-01-28T18:46:48.384307Z",
     "iopub.status.idle": "2025-01-28T18:46:48.391505Z",
     "shell.execute_reply": "2025-01-28T18:46:48.390235Z",
     "shell.execute_reply.started": "2025-01-28T18:46:48.384575Z"
    },
    "trusted": true
   },
   "outputs": [
    {
     "name": "stdout",
     "output_type": "stream",
     "text": [
      "trainable params: 889,349 || all params: 125,538,826 || trainable%: 0.7084\n"
     ]
    }
   ],
   "source": [
    "peft_model.print_trainable_parameters()"
   ]
  },
  {
   "cell_type": "code",
   "execution_count": 15,
   "metadata": {
    "execution": {
     "iopub.execute_input": "2025-01-28T18:46:48.392905Z",
     "iopub.status.busy": "2025-01-28T18:46:48.392611Z",
     "iopub.status.idle": "2025-01-28T18:46:48.410764Z",
     "shell.execute_reply": "2025-01-28T18:46:48.410083Z",
     "shell.execute_reply.started": "2025-01-28T18:46:48.392877Z"
    },
    "trusted": true
   },
   "outputs": [],
   "source": [
    "def compute_metrics(eval_pred):\n",
    "    logits, labels = eval_pred\n",
    "    predictions = logits.argmax(axis=-1)\n",
    "    accuracy = accuracy_score(labels, predictions)\n",
    "    f1 = f1_score(labels, predictions, average=\"weighted\")\n",
    "    return {\"accuracy\": accuracy, \"f1\": f1}"
   ]
  },
  {
   "cell_type": "code",
   "execution_count": null,
   "metadata": {
    "execution": {
     "iopub.execute_input": "2025-01-28T18:46:48.411888Z",
     "iopub.status.busy": "2025-01-28T18:46:48.411597Z",
     "iopub.status.idle": "2025-01-28T18:46:49.027115Z",
     "shell.execute_reply": "2025-01-28T18:46:49.026477Z",
     "shell.execute_reply.started": "2025-01-28T18:46:48.411860Z"
    },
    "trusted": true
   },
   "outputs": [],
   "source": [
    "training_args = TrainingArguments(\n",
    "    output_dir=\"./results\",\n",
    "    evaluation_strategy=\"epoch\",\n",
    "    num_train_epochs=10,\n",
    "    per_device_train_batch_size=16,\n",
    "    learning_rate=0.0001,\n",
    "    log_level=\"info\",\n",
    "    report_to=\"tensorboard\",\n",
    "    logging_dir=\"./logs\",\n",
    "    logging_steps=10,\n",
    ")\n",
    "\n",
    "\n",
    "trainer = Trainer(\n",
    "    model=model,\n",
    "    args=training_args,\n",
    "    train_dataset=train,\n",
    "    eval_dataset=valid,\n",
    "    data_collator=data_collator,\n",
    "    compute_metrics=compute_metrics,\n",
    ")"
   ]
  },
  {
   "cell_type": "code",
   "execution_count": 17,
   "metadata": {
    "execution": {
     "iopub.execute_input": "2025-01-28T18:46:49.028083Z",
     "iopub.status.busy": "2025-01-28T18:46:49.027865Z",
     "iopub.status.idle": "2025-01-28T18:50:26.736244Z",
     "shell.execute_reply": "2025-01-28T18:50:26.735607Z",
     "shell.execute_reply.started": "2025-01-28T18:46:49.028065Z"
    },
    "trusted": true
   },
   "outputs": [
    {
     "name": "stderr",
     "output_type": "stream",
     "text": [
      "The following columns in the training set don't have a corresponding argument in `RobertaForSequenceClassification.forward` and have been ignored: Text, __index_level_0__. If Text, __index_level_0__ are not expected by `RobertaForSequenceClassification.forward`,  you can safely ignore this message.\n",
      "***** Running training *****\n",
      "  Num examples = 446\n",
      "  Num Epochs = 10\n",
      "  Instantaneous batch size per device = 16\n",
      "  Training with DataParallel so batch size has been adjusted to: 32\n",
      "  Total train batch size (w. parallel, distributed & accumulation) = 32\n",
      "  Gradient Accumulation steps = 1\n",
      "  Total optimization steps = 140\n",
      "  Number of trainable parameters = 889,349\n",
      "/usr/local/lib/python3.10/dist-packages/torch/nn/parallel/_functions.py:68: UserWarning: Was asked to gather along dimension 0, but all input tensors were scalars; will instead unsqueeze and return a vector.\n",
      "  warnings.warn('Was asked to gather along dimension 0, but all '\n"
     ]
    },
    {
     "data": {
      "text/html": [
       "\n",
       "    <div>\n",
       "      \n",
       "      <progress value='140' max='140' style='width:300px; height:20px; vertical-align: middle;'></progress>\n",
       "      [140/140 03:33, Epoch 10/10]\n",
       "    </div>\n",
       "    <table border=\"1\" class=\"dataframe\">\n",
       "  <thead>\n",
       " <tr style=\"text-align: left;\">\n",
       "      <th>Epoch</th>\n",
       "      <th>Training Loss</th>\n",
       "      <th>Validation Loss</th>\n",
       "      <th>Accuracy</th>\n",
       "      <th>F1</th>\n",
       "    </tr>\n",
       "  </thead>\n",
       "  <tbody>\n",
       "    <tr>\n",
       "      <td>1</td>\n",
       "      <td>1.605600</td>\n",
       "      <td>1.576759</td>\n",
       "      <td>0.375000</td>\n",
       "      <td>0.276807</td>\n",
       "    </tr>\n",
       "    <tr>\n",
       "      <td>2</td>\n",
       "      <td>1.580900</td>\n",
       "      <td>1.538065</td>\n",
       "      <td>0.327381</td>\n",
       "      <td>0.228562</td>\n",
       "    </tr>\n",
       "    <tr>\n",
       "      <td>3</td>\n",
       "      <td>1.514200</td>\n",
       "      <td>1.441738</td>\n",
       "      <td>0.636905</td>\n",
       "      <td>0.538480</td>\n",
       "    </tr>\n",
       "    <tr>\n",
       "      <td>4</td>\n",
       "      <td>1.390300</td>\n",
       "      <td>1.123029</td>\n",
       "      <td>0.791667</td>\n",
       "      <td>0.763323</td>\n",
       "    </tr>\n",
       "    <tr>\n",
       "      <td>5</td>\n",
       "      <td>0.812600</td>\n",
       "      <td>0.615842</td>\n",
       "      <td>0.952381</td>\n",
       "      <td>0.952010</td>\n",
       "    </tr>\n",
       "    <tr>\n",
       "      <td>6</td>\n",
       "      <td>0.502500</td>\n",
       "      <td>0.279084</td>\n",
       "      <td>0.976190</td>\n",
       "      <td>0.976199</td>\n",
       "    </tr>\n",
       "    <tr>\n",
       "      <td>7</td>\n",
       "      <td>0.297900</td>\n",
       "      <td>0.169195</td>\n",
       "      <td>0.970238</td>\n",
       "      <td>0.970208</td>\n",
       "    </tr>\n",
       "    <tr>\n",
       "      <td>8</td>\n",
       "      <td>0.151900</td>\n",
       "      <td>0.128571</td>\n",
       "      <td>0.970238</td>\n",
       "      <td>0.970208</td>\n",
       "    </tr>\n",
       "    <tr>\n",
       "      <td>9</td>\n",
       "      <td>0.133600</td>\n",
       "      <td>0.113833</td>\n",
       "      <td>0.970238</td>\n",
       "      <td>0.970208</td>\n",
       "    </tr>\n",
       "    <tr>\n",
       "      <td>10</td>\n",
       "      <td>0.103800</td>\n",
       "      <td>0.108610</td>\n",
       "      <td>0.970238</td>\n",
       "      <td>0.970208</td>\n",
       "    </tr>\n",
       "  </tbody>\n",
       "</table><p>"
      ],
      "text/plain": [
       "<IPython.core.display.HTML object>"
      ]
     },
     "metadata": {},
     "output_type": "display_data"
    },
    {
     "name": "stderr",
     "output_type": "stream",
     "text": [
      "The following columns in the evaluation set don't have a corresponding argument in `RobertaForSequenceClassification.forward` and have been ignored: Text, __index_level_0__. If Text, __index_level_0__ are not expected by `RobertaForSequenceClassification.forward`,  you can safely ignore this message.\n",
      "\n",
      "***** Running Evaluation *****\n",
      "  Num examples = 168\n",
      "  Batch size = 16\n",
      "/usr/local/lib/python3.10/dist-packages/torch/nn/parallel/_functions.py:68: UserWarning: Was asked to gather along dimension 0, but all input tensors were scalars; will instead unsqueeze and return a vector.\n",
      "  warnings.warn('Was asked to gather along dimension 0, but all '\n",
      "The following columns in the evaluation set don't have a corresponding argument in `RobertaForSequenceClassification.forward` and have been ignored: Text, __index_level_0__. If Text, __index_level_0__ are not expected by `RobertaForSequenceClassification.forward`,  you can safely ignore this message.\n",
      "\n",
      "***** Running Evaluation *****\n",
      "  Num examples = 168\n",
      "  Batch size = 16\n",
      "/usr/local/lib/python3.10/dist-packages/torch/nn/parallel/_functions.py:68: UserWarning: Was asked to gather along dimension 0, but all input tensors were scalars; will instead unsqueeze and return a vector.\n",
      "  warnings.warn('Was asked to gather along dimension 0, but all '\n",
      "The following columns in the evaluation set don't have a corresponding argument in `RobertaForSequenceClassification.forward` and have been ignored: Text, __index_level_0__. If Text, __index_level_0__ are not expected by `RobertaForSequenceClassification.forward`,  you can safely ignore this message.\n",
      "\n",
      "***** Running Evaluation *****\n",
      "  Num examples = 168\n",
      "  Batch size = 16\n",
      "/usr/local/lib/python3.10/dist-packages/torch/nn/parallel/_functions.py:68: UserWarning: Was asked to gather along dimension 0, but all input tensors were scalars; will instead unsqueeze and return a vector.\n",
      "  warnings.warn('Was asked to gather along dimension 0, but all '\n",
      "The following columns in the evaluation set don't have a corresponding argument in `RobertaForSequenceClassification.forward` and have been ignored: Text, __index_level_0__. If Text, __index_level_0__ are not expected by `RobertaForSequenceClassification.forward`,  you can safely ignore this message.\n",
      "\n",
      "***** Running Evaluation *****\n",
      "  Num examples = 168\n",
      "  Batch size = 16\n",
      "/usr/local/lib/python3.10/dist-packages/torch/nn/parallel/_functions.py:68: UserWarning: Was asked to gather along dimension 0, but all input tensors were scalars; will instead unsqueeze and return a vector.\n",
      "  warnings.warn('Was asked to gather along dimension 0, but all '\n",
      "The following columns in the evaluation set don't have a corresponding argument in `RobertaForSequenceClassification.forward` and have been ignored: Text, __index_level_0__. If Text, __index_level_0__ are not expected by `RobertaForSequenceClassification.forward`,  you can safely ignore this message.\n",
      "\n",
      "***** Running Evaluation *****\n",
      "  Num examples = 168\n",
      "  Batch size = 16\n",
      "/usr/local/lib/python3.10/dist-packages/torch/nn/parallel/_functions.py:68: UserWarning: Was asked to gather along dimension 0, but all input tensors were scalars; will instead unsqueeze and return a vector.\n",
      "  warnings.warn('Was asked to gather along dimension 0, but all '\n",
      "The following columns in the evaluation set don't have a corresponding argument in `RobertaForSequenceClassification.forward` and have been ignored: Text, __index_level_0__. If Text, __index_level_0__ are not expected by `RobertaForSequenceClassification.forward`,  you can safely ignore this message.\n",
      "\n",
      "***** Running Evaluation *****\n",
      "  Num examples = 168\n",
      "  Batch size = 16\n",
      "/usr/local/lib/python3.10/dist-packages/torch/nn/parallel/_functions.py:68: UserWarning: Was asked to gather along dimension 0, but all input tensors were scalars; will instead unsqueeze and return a vector.\n",
      "  warnings.warn('Was asked to gather along dimension 0, but all '\n",
      "The following columns in the evaluation set don't have a corresponding argument in `RobertaForSequenceClassification.forward` and have been ignored: Text, __index_level_0__. If Text, __index_level_0__ are not expected by `RobertaForSequenceClassification.forward`,  you can safely ignore this message.\n",
      "\n",
      "***** Running Evaluation *****\n",
      "  Num examples = 168\n",
      "  Batch size = 16\n",
      "/usr/local/lib/python3.10/dist-packages/torch/nn/parallel/_functions.py:68: UserWarning: Was asked to gather along dimension 0, but all input tensors were scalars; will instead unsqueeze and return a vector.\n",
      "  warnings.warn('Was asked to gather along dimension 0, but all '\n",
      "The following columns in the evaluation set don't have a corresponding argument in `RobertaForSequenceClassification.forward` and have been ignored: Text, __index_level_0__. If Text, __index_level_0__ are not expected by `RobertaForSequenceClassification.forward`,  you can safely ignore this message.\n",
      "\n",
      "***** Running Evaluation *****\n",
      "  Num examples = 168\n",
      "  Batch size = 16\n",
      "/usr/local/lib/python3.10/dist-packages/torch/nn/parallel/_functions.py:68: UserWarning: Was asked to gather along dimension 0, but all input tensors were scalars; will instead unsqueeze and return a vector.\n",
      "  warnings.warn('Was asked to gather along dimension 0, but all '\n",
      "The following columns in the evaluation set don't have a corresponding argument in `RobertaForSequenceClassification.forward` and have been ignored: Text, __index_level_0__. If Text, __index_level_0__ are not expected by `RobertaForSequenceClassification.forward`,  you can safely ignore this message.\n",
      "\n",
      "***** Running Evaluation *****\n",
      "  Num examples = 168\n",
      "  Batch size = 16\n",
      "/usr/local/lib/python3.10/dist-packages/torch/nn/parallel/_functions.py:68: UserWarning: Was asked to gather along dimension 0, but all input tensors were scalars; will instead unsqueeze and return a vector.\n",
      "  warnings.warn('Was asked to gather along dimension 0, but all '\n",
      "Saving model checkpoint to ./results/checkpoint-140\n",
      "Configuration saved in ./results/checkpoint-140/config.json\n",
      "Model weights saved in ./results/checkpoint-140/model.safetensors\n",
      "The following columns in the evaluation set don't have a corresponding argument in `RobertaForSequenceClassification.forward` and have been ignored: Text, __index_level_0__. If Text, __index_level_0__ are not expected by `RobertaForSequenceClassification.forward`,  you can safely ignore this message.\n",
      "\n",
      "***** Running Evaluation *****\n",
      "  Num examples = 168\n",
      "  Batch size = 16\n",
      "/usr/local/lib/python3.10/dist-packages/torch/nn/parallel/_functions.py:68: UserWarning: Was asked to gather along dimension 0, but all input tensors were scalars; will instead unsqueeze and return a vector.\n",
      "  warnings.warn('Was asked to gather along dimension 0, but all '\n",
      "\n",
      "\n",
      "Training completed. Do not forget to share your model on huggingface.co/models =)\n",
      "\n",
      "\n"
     ]
    },
    {
     "data": {
      "text/plain": [
       "TrainOutput(global_step=140, training_loss=0.7939855660711016, metrics={'train_runtime': 216.5614, 'train_samples_per_second': 20.595, 'train_steps_per_second': 0.646, 'total_flos': 1185691992760320.0, 'train_loss': 0.7939855660711016, 'epoch': 10.0})"
      ]
     },
     "execution_count": 17,
     "metadata": {},
     "output_type": "execute_result"
    }
   ],
   "source": [
    "trainer.train()"
   ]
  },
  {
   "cell_type": "code",
   "execution_count": 18,
   "metadata": {
    "execution": {
     "iopub.execute_input": "2025-01-28T18:50:26.737165Z",
     "iopub.status.busy": "2025-01-28T18:50:26.736940Z",
     "iopub.status.idle": "2025-01-28T18:50:27.327184Z",
     "shell.execute_reply": "2025-01-28T18:50:27.326318Z",
     "shell.execute_reply.started": "2025-01-28T18:50:26.737144Z"
    },
    "trusted": true
   },
   "outputs": [
    {
     "data": {
      "image/png": "[encoded data removed]",
      "text/plain": [
       "<Figure size 1200x600 with 2 Axes>"
      ]
     },
     "metadata": {},
     "output_type": "display_data"
    }
   ],
   "source": [
    "history = trainer.state.log_history\n",
    "\n",
    "history_df = pd.DataFrame(history)\n",
    "\n",
    "train_loss = history_df[history_df[\"loss\"].notnull()][[\"epoch\", \"loss\"]]\n",
    "eval_loss = history_df[history_df[\"eval_loss\"].notnull()][[\"epoch\", \"eval_loss\"]]\n",
    "eval_accuracy = history_df[history_df[\"eval_accuracy\"].notnull()][\n",
    "    [\"epoch\", \"eval_accuracy\"]\n",
    "]\n",
    "eval_f1 = history_df[history_df[\"eval_f1\"].notnull()][[\"epoch\", \"eval_f1\"]]\n",
    "\n",
    "# plot the losses\n",
    "plt.figure(figsize=(12, 6))\n",
    "\n",
    "plt.subplot(1, 2, 1)\n",
    "plt.plot(train_loss[\"epoch\"], train_loss[\"loss\"], label=\"Train Loss\", marker=\"o\")\n",
    "plt.plot(\n",
    "    eval_loss[\"epoch\"], eval_loss[\"eval_loss\"], label=\"Validation Loss\", marker=\"o\"\n",
    ")\n",
    "plt.xlabel(\"Epoch\")\n",
    "plt.ylabel(\"Loss\")\n",
    "plt.title(\"Train and Validation Loss\")\n",
    "plt.legend()\n",
    "\n",
    "# plot the metrics\n",
    "plt.subplot(1, 2, 2)\n",
    "plt.plot(\n",
    "    eval_accuracy[\"epoch\"],\n",
    "    eval_accuracy[\"eval_accuracy\"],\n",
    "    label=\"Validation Accuracy\",\n",
    "    marker=\"o\",\n",
    ")\n",
    "plt.plot(eval_f1[\"epoch\"], eval_f1[\"eval_f1\"], label=\"Validation F1 Score\", marker=\"o\")\n",
    "plt.xlabel(\"Epoch\")\n",
    "plt.ylabel(\"Metrics\")\n",
    "plt.title(\"Validation Accuracy and F1 Score\")\n",
    "plt.legend()\n",
    "\n",
    "plt.tight_layout()\n",
    "plt.show()"
   ]
  },
  {
   "cell_type": "markdown",
   "metadata": {},
   "source": [
    "## Evaluation"
   ]
  },
  {
   "cell_type": "code",
   "execution_count": 19,
   "metadata": {
    "execution": {
     "iopub.execute_input": "2025-01-28T18:50:27.328163Z",
     "iopub.status.busy": "2025-01-28T18:50:27.327958Z",
     "iopub.status.idle": "2025-01-28T18:50:30.489594Z",
     "shell.execute_reply": "2025-01-28T18:50:30.488923Z",
     "shell.execute_reply.started": "2025-01-28T18:50:27.328146Z"
    },
    "trusted": true
   },
   "outputs": [
    {
     "name": "stderr",
     "output_type": "stream",
     "text": [
      "The following columns in the evaluation set don't have a corresponding argument in `RobertaForSequenceClassification.forward` and have been ignored: Text, __index_level_0__. If Text, __index_level_0__ are not expected by `RobertaForSequenceClassification.forward`,  you can safely ignore this message.\n",
      "\n",
      "***** Running Evaluation *****\n",
      "  Num examples = 151\n",
      "  Batch size = 16\n",
      "/usr/local/lib/python3.10/dist-packages/torch/nn/parallel/_functions.py:68: UserWarning: Was asked to gather along dimension 0, but all input tensors were scalars; will instead unsqueeze and return a vector.\n",
      "  warnings.warn('Was asked to gather along dimension 0, but all '\n"
     ]
    },
    {
     "data": {
      "text/html": [
       "\n",
       "    <div>\n",
       "      \n",
       "      <progress value='10' max='10' style='width:300px; height:20px; vertical-align: middle;'></progress>\n",
       "      [10/10 00:02]\n",
       "    </div>\n",
       "    "
      ],
      "text/plain": [
       "<IPython.core.display.HTML object>"
      ]
     },
     "metadata": {},
     "output_type": "display_data"
    },
    {
     "name": "stdout",
     "output_type": "stream",
     "text": [
      "Test Accuracy: 0.9602649006622517\n",
      "Test F1 Score: 0.9589615529724945\n"
     ]
    }
   ],
   "source": [
    "test_results = trainer.evaluate(test)\n",
    "print(f\"Test Accuracy: {test_results['eval_accuracy']}\")\n",
    "print(f\"Test F1 Score: {test_results['eval_f1']}\")"
   ]
  },
  {
   "cell_type": "markdown",
   "metadata": {},
   "source": [
    "## Save the model"
   ]
  },
  {
   "cell_type": "code",
   "execution_count": 20,
   "metadata": {
    "execution": {
     "iopub.execute_input": "2025-01-28T18:50:30.490643Z",
     "iopub.status.busy": "2025-01-28T18:50:30.490342Z",
     "iopub.status.idle": "2025-01-28T18:50:30.692427Z",
     "shell.execute_reply": "2025-01-28T18:50:30.691813Z",
     "shell.execute_reply.started": "2025-01-28T18:50:30.490609Z"
    },
    "trusted": true
   },
   "outputs": [
    {
     "name": "stderr",
     "output_type": "stream",
     "text": [
      "loading configuration file config.json from cache at /root/.cache/huggingface/hub/models--roberta-base/snapshots/e2da8e2f811d1448a5b465c236feacd80ffbac7b/config.json\n",
      "Model config RobertaConfig {\n",
      "  \"architectures\": [\n",
      "    \"RobertaForMaskedLM\"\n",
      "  ],\n",
      "  \"attention_probs_dropout_prob\": 0.1,\n",
      "  \"bos_token_id\": 0,\n",
      "  \"classifier_dropout\": null,\n",
      "  \"eos_token_id\": 2,\n",
      "  \"hidden_act\": \"gelu\",\n",
      "  \"hidden_dropout_prob\": 0.1,\n",
      "  \"hidden_size\": 768,\n",
      "  \"initializer_range\": 0.02,\n",
      "  \"intermediate_size\": 3072,\n",
      "  \"layer_norm_eps\": 1e-05,\n",
      "  \"max_position_embeddings\": 514,\n",
      "  \"model_type\": \"roberta\",\n",
      "  \"num_attention_heads\": 12,\n",
      "  \"num_hidden_layers\": 12,\n",
      "  \"pad_token_id\": 1,\n",
      "  \"position_embedding_type\": \"absolute\",\n",
      "  \"transformers_version\": \"4.44.2\",\n",
      "  \"type_vocab_size\": 1,\n",
      "  \"use_cache\": true,\n",
      "  \"vocab_size\": 50265\n",
      "}\n",
      "\n"
     ]
    },
    {
     "name": "stdout",
     "output_type": "stream",
     "text": [
      "Model saved to ./saved_model\n"
     ]
    }
   ],
   "source": [
    "save_directory = \"./saved_model\"\n",
    "peft_model.save_pretrained(save_directory)\n",
    "print(f\"Model saved to {save_directory}\")"
   ]
  }
 ],
 "metadata": {
  "kaggle": {
   "accelerator": "nvidiaTeslaT4",
   "dataSources": [
    {
     "datasetId": 4295346,
     "sourceId": 7389273,
     "sourceType": "datasetVersion"
    }
   ],
   "dockerImageVersionId": 30822,
   "isGpuEnabled": true,
   "isInternetEnabled": true,
   "language": "python",
   "sourceType": "notebook"
  },
  "kernelspec": {
   "display_name": "Python 3",
   "language": "python",
   "name": "python3"
  },
  "language_info": {
   "codemirror_mode": {
    "name": "ipython",
    "version": 3
   },
   "file_extension": ".py",
   "mimetype": "text/x-python",
   "name": "python",
   "nbconvert_exporter": "python",
   "pygments_lexer": "ipython3",
   "version": "3.10.12"
  }
 },
 "nbformat": 4,
 "nbformat_minor": 4
}

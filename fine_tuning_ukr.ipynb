{
 "cells": [
  {
   "cell_type": "code",
   "execution_count": null,
   "metadata": {
    "trusted": true
   },
   "outputs": [],
   "source": [
    "# !pip install huggingface_hub\n",
    "# !pip install peft==0.14.0"
   ]
  },
  {
   "cell_type": "code",
   "execution_count": 2,
   "metadata": {
    "execution": {
     "iopub.execute_input": "2025-02-09T09:00:59.240906Z",
     "iopub.status.busy": "2025-02-09T09:00:59.240701Z",
     "iopub.status.idle": "2025-02-09T09:01:12.505782Z",
     "shell.execute_reply": "2025-02-09T09:01:12.504870Z",
     "shell.execute_reply.started": "2025-02-09T09:00:59.240890Z"
    },
    "trusted": true
   },
   "outputs": [],
   "source": [
    "import pandas as pd\n",
    "from sklearn.model_selection import train_test_split\n",
    "from sklearn.metrics import accuracy_score, f1_score\n",
    "from transformers import (\n",
    "    AutoModelForSequenceClassification,\n",
    "    TrainingArguments,\n",
    "    Trainer,\n",
    "    DataCollatorWithPadding,\n",
    "    AutoTokenizer,\n",
    ")\n",
    "from peft import LoraConfig, get_peft_model\n",
    "from datasets import Dataset\n",
    "import matplotlib.pyplot as plt"
   ]
  },
  {
   "cell_type": "code",
   "execution_count": 3,
   "metadata": {
    "execution": {
     "iopub.execute_input": "2025-02-09T09:01:12.508172Z",
     "iopub.status.busy": "2025-02-09T09:01:12.507597Z",
     "iopub.status.idle": "2025-02-09T09:01:12.642446Z",
     "shell.execute_reply": "2025-02-09T09:01:12.641623Z",
     "shell.execute_reply.started": "2025-02-09T09:01:12.508149Z"
    },
    "trusted": true
   },
   "outputs": [
    {
     "data": {
      "text/plain": [
       "<bound method NDFrame.head of      Label                                               text\n",
       "0        0  Доповідь про напади на витрати на оборону\\n\\nМ...\n",
       "1        4  Бразилія зменшує значення порятунку Varig\\n\\nУ...\n",
       "2        0  Джемісон попереджає великих біготів\\n\\nМіністр...\n",
       "3        1  Чарвіс, ймовірно, не зможе відновитися до матч...\n",
       "4        4  Азійські акції не піддаються постземлетрусному...\n",
       "..     ...                                                ...\n",
       "696      3  Гімн благодійності США повторно випущено\\n\\nWe...\n",
       "697      1  Венгер підтримує Альмунію\\n\\nАрсен Венгер пооб...\n",
       "698      4  Unilever зазнає змін через падіння прибутку\\n\\...\n",
       "699      1  Тигри обережні щодо \"ризику\" з Фарреллом\\n\\nЛе...\n",
       "700      0  Ліберальні демократи націлюються на покупців в...\n",
       "\n",
       "[701 rows x 2 columns]>"
      ]
     },
     "execution_count": 3,
     "metadata": {},
     "output_type": "execute_result"
    }
   ],
   "source": [
    "path = \"/kaggle/input/ukr-dataset/ukr_dataset.csv\"\n",
    "df = pd.read_csv(path)\n",
    "df.head"
   ]
  },
  {
   "cell_type": "code",
   "execution_count": 4,
   "metadata": {
    "execution": {
     "iopub.execute_input": "2025-02-09T09:01:12.643966Z",
     "iopub.status.busy": "2025-02-09T09:01:12.643680Z",
     "iopub.status.idle": "2025-02-09T09:01:12.657941Z",
     "shell.execute_reply": "2025-02-09T09:01:12.657182Z",
     "shell.execute_reply.started": "2025-02-09T09:01:12.643946Z"
    },
    "trusted": true
   },
   "outputs": [
    {
     "name": "stdout",
     "output_type": "stream",
     "text": [
      "Train:  490\n",
      "Validation:  105\n",
      "Test:  106\n"
     ]
    }
   ],
   "source": [
    "train, temp = train_test_split(df, test_size=0.3, stratify=df[\"Label\"])\n",
    "valid, test = train_test_split(temp, test_size=0.5, stratify=temp[\"Label\"])\n",
    "\n",
    "print(\"Train: \", len(train))\n",
    "print(\"Validation: \", len(valid))\n",
    "print(\"Test: \", len(test))"
   ]
  },
  {
   "cell_type": "code",
   "execution_count": 5,
   "metadata": {
    "execution": {
     "iopub.execute_input": "2025-02-09T09:01:12.658980Z",
     "iopub.status.busy": "2025-02-09T09:01:12.658710Z",
     "iopub.status.idle": "2025-02-09T09:01:12.671174Z",
     "shell.execute_reply": "2025-02-09T09:01:12.670512Z",
     "shell.execute_reply.started": "2025-02-09T09:01:12.658949Z"
    },
    "trusted": true
   },
   "outputs": [
    {
     "data": {
      "text/plain": [
       "Label\n",
       "1    23.673469\n",
       "4    23.673469\n",
       "0    18.979592\n",
       "3    17.346939\n",
       "2    16.326531\n",
       "Name: proportion, dtype: float64"
      ]
     },
     "execution_count": 5,
     "metadata": {},
     "output_type": "execute_result"
    }
   ],
   "source": [
    "label_counts = train[\"Label\"].value_counts(normalize=True) * 100\n",
    "label_counts"
   ]
  },
  {
   "cell_type": "code",
   "execution_count": 6,
   "metadata": {
    "execution": {
     "iopub.execute_input": "2025-02-09T09:01:12.672118Z",
     "iopub.status.busy": "2025-02-09T09:01:12.671842Z",
     "iopub.status.idle": "2025-02-09T09:01:12.725173Z",
     "shell.execute_reply": "2025-02-09T09:01:12.724577Z",
     "shell.execute_reply.started": "2025-02-09T09:01:12.672092Z"
    },
    "trusted": true
   },
   "outputs": [],
   "source": [
    "train = Dataset.from_pandas(train)\n",
    "valid = Dataset.from_pandas(valid)\n",
    "test = Dataset.from_pandas(test)"
   ]
  },
  {
   "cell_type": "code",
   "execution_count": null,
   "metadata": {
    "execution": {
     "iopub.execute_input": "2025-02-09T09:01:12.725958Z",
     "iopub.status.busy": "2025-02-09T09:01:12.725751Z",
     "iopub.status.idle": "2025-02-09T09:01:13.741394Z",
     "shell.execute_reply": "2025-02-09T09:01:13.740343Z",
     "shell.execute_reply.started": "2025-02-09T09:01:12.725940Z"
    },
    "trusted": true
   },
   "outputs": [],
   "source": [
    "base_model = \"youscan/ukr-roberta-base\"\n",
    "tokenizer = AutoTokenizer.from_pretrained(\"youscan/ukr-roberta-base\")"
   ]
  },
  {
   "cell_type": "code",
   "execution_count": 8,
   "metadata": {
    "execution": {
     "iopub.execute_input": "2025-02-09T09:01:13.744050Z",
     "iopub.status.busy": "2025-02-09T09:01:13.743798Z",
     "iopub.status.idle": "2025-02-09T09:01:13.747564Z",
     "shell.execute_reply": "2025-02-09T09:01:13.746655Z",
     "shell.execute_reply.started": "2025-02-09T09:01:13.744019Z"
    },
    "trusted": true
   },
   "outputs": [],
   "source": [
    "def tokenize(df):\n",
    "    return tokenizer(df[\"text\"], padding=True, truncation=True)"
   ]
  },
  {
   "cell_type": "code",
   "execution_count": null,
   "metadata": {
    "execution": {
     "iopub.execute_input": "2025-02-09T09:01:13.748818Z",
     "iopub.status.busy": "2025-02-09T09:01:13.748560Z",
     "iopub.status.idle": "2025-02-09T09:01:14.664405Z",
     "shell.execute_reply": "2025-02-09T09:01:14.663735Z",
     "shell.execute_reply.started": "2025-02-09T09:01:13.748785Z"
    },
    "trusted": true
   },
   "outputs": [],
   "source": [
    "train = train.map(tokenize, batched=True, batch_size=len(train))\n",
    "valid = valid.map(tokenize, batched=True, batch_size=len(valid))\n",
    "test = test.map(tokenize, batched=True, batch_size=len(test))"
   ]
  },
  {
   "cell_type": "code",
   "execution_count": 10,
   "metadata": {
    "execution": {
     "iopub.execute_input": "2025-02-09T09:01:14.665625Z",
     "iopub.status.busy": "2025-02-09T09:01:14.665312Z",
     "iopub.status.idle": "2025-02-09T09:01:14.674169Z",
     "shell.execute_reply": "2025-02-09T09:01:14.673314Z",
     "shell.execute_reply.started": "2025-02-09T09:01:14.665595Z"
    },
    "trusted": true
   },
   "outputs": [],
   "source": [
    "train = train.rename_column(\"Label\", \"label\")\n",
    "valid = valid.rename_column(\"Label\", \"label\")\n",
    "test = test.rename_column(\"Label\", \"label\")\n",
    "\n",
    "train.set_format(\"torch\", columns=[\"input_ids\", \"attention_mask\", \"label\"])\n",
    "valid.set_format(\"torch\", columns=[\"input_ids\", \"attention_mask\", \"label\"])\n",
    "test.set_format(\"torch\", columns=[\"input_ids\", \"attention_mask\", \"label\"])"
   ]
  },
  {
   "cell_type": "code",
   "execution_count": 11,
   "metadata": {
    "execution": {
     "iopub.execute_input": "2025-02-09T09:01:14.675381Z",
     "iopub.status.busy": "2025-02-09T09:01:14.675101Z",
     "iopub.status.idle": "2025-02-09T09:01:14.689751Z",
     "shell.execute_reply": "2025-02-09T09:01:14.688955Z",
     "shell.execute_reply.started": "2025-02-09T09:01:14.675353Z"
    },
    "trusted": true
   },
   "outputs": [
    {
     "data": {
      "text/plain": [
       "{0: 'Politics', 1: 'Sport', 2: 'Technology', 3: 'Entertainment', 4: 'Business'}"
      ]
     },
     "execution_count": 11,
     "metadata": {},
     "output_type": "execute_result"
    }
   ],
   "source": [
    "class_names = [\"Politics\", \"Sport\", \"Technology\", \"Entertainment\", \"Business\"]\n",
    "id2label = {i: label for i, label in enumerate(class_names)}\n",
    "id2label"
   ]
  },
  {
   "cell_type": "markdown",
   "metadata": {},
   "source": [
    "## Training"
   ]
  },
  {
   "cell_type": "code",
   "execution_count": 20,
   "metadata": {
    "execution": {
     "iopub.execute_input": "2025-02-09T09:05:36.573445Z",
     "iopub.status.busy": "2025-02-09T09:05:36.572788Z",
     "iopub.status.idle": "2025-02-09T09:05:37.091930Z",
     "shell.execute_reply": "2025-02-09T09:05:37.091267Z",
     "shell.execute_reply.started": "2025-02-09T09:05:36.573411Z"
    },
    "trusted": true
   },
   "outputs": [
    {
     "name": "stderr",
     "output_type": "stream",
     "text": [
      "loading configuration file config.json from cache at /root/.cache/huggingface/hub/models--youscan--ukr-roberta-base/snapshots/f8689ddd740b7a3277f5205cd1d5dc5481699bb5/config.json\n",
      "Model config RobertaConfig {\n",
      "  \"_name_or_path\": \"youscan/ukr-roberta-base\",\n",
      "  \"architectures\": [\n",
      "    \"RobertaForMaskedLM\"\n",
      "  ],\n",
      "  \"attention_probs_dropout_prob\": 0.1,\n",
      "  \"bos_token_id\": 0,\n",
      "  \"classifier_dropout\": null,\n",
      "  \"eos_token_id\": 2,\n",
      "  \"hidden_act\": \"gelu\",\n",
      "  \"hidden_dropout_prob\": 0.1,\n",
      "  \"hidden_size\": 768,\n",
      "  \"id2label\": {\n",
      "    \"0\": \"Politics\",\n",
      "    \"1\": \"Sport\",\n",
      "    \"2\": \"Technology\",\n",
      "    \"3\": \"Entertainment\",\n",
      "    \"4\": \"Business\"\n",
      "  },\n",
      "  \"initializer_range\": 0.02,\n",
      "  \"intermediate_size\": 3072,\n",
      "  \"layer_norm_eps\": 1e-12,\n",
      "  \"max_position_embeddings\": 514,\n",
      "  \"model_type\": \"roberta\",\n",
      "  \"num_attention_heads\": 12,\n",
      "  \"num_hidden_layers\": 12,\n",
      "  \"pad_token_id\": 1,\n",
      "  \"position_embedding_type\": \"absolute\",\n",
      "  \"transformers_version\": \"4.44.2\",\n",
      "  \"type_vocab_size\": 1,\n",
      "  \"use_cache\": true,\n",
      "  \"vocab_size\": 52000\n",
      "}\n",
      "\n",
      "loading weights file pytorch_model.bin from cache at /root/.cache/huggingface/hub/models--youscan--ukr-roberta-base/snapshots/f8689ddd740b7a3277f5205cd1d5dc5481699bb5/pytorch_model.bin\n",
      "Some weights of the model checkpoint at youscan/ukr-roberta-base were not used when initializing RobertaForSequenceClassification: ['lm_head.bias', 'lm_head.decoder.bias', 'lm_head.decoder.weight', 'lm_head.dense.bias', 'lm_head.dense.weight', 'lm_head.layer_norm.bias', 'lm_head.layer_norm.weight', 'roberta.pooler.dense.bias', 'roberta.pooler.dense.weight']\n",
      "- This IS expected if you are initializing RobertaForSequenceClassification from the checkpoint of a model trained on another task or with another architecture (e.g. initializing a BertForSequenceClassification model from a BertForPreTraining model).\n",
      "- This IS NOT expected if you are initializing RobertaForSequenceClassification from the checkpoint of a model that you expect to be exactly identical (initializing a BertForSequenceClassification model from a BertForSequenceClassification model).\n",
      "Some weights of RobertaForSequenceClassification were not initialized from the model checkpoint at youscan/ukr-roberta-base and are newly initialized: ['classifier.dense.bias', 'classifier.dense.weight', 'classifier.out_proj.bias', 'classifier.out_proj.weight']\n",
      "You should probably TRAIN this model on a down-stream task to be able to use it for predictions and inference.\n"
     ]
    }
   ],
   "source": [
    "model = AutoModelForSequenceClassification.from_pretrained(\n",
    "    base_model, id2label=id2label\n",
    ")\n",
    "\n",
    "peft_config = LoraConfig(\n",
    "    task_type=\"SEQ_CLS\", inference_mode=False, r=8, lora_alpha=16, lora_dropout=0.1\n",
    ")\n",
    "peft_model = get_peft_model(model, peft_config)\n",
    "\n",
    "data_collator = DataCollatorWithPadding(tokenizer=tokenizer, return_tensors=\"pt\")"
   ]
  },
  {
   "cell_type": "code",
   "execution_count": 21,
   "metadata": {
    "execution": {
     "iopub.execute_input": "2025-02-09T09:05:42.602895Z",
     "iopub.status.busy": "2025-02-09T09:05:42.602587Z",
     "iopub.status.idle": "2025-02-09T09:05:42.608573Z",
     "shell.execute_reply": "2025-02-09T09:05:42.607756Z",
     "shell.execute_reply.started": "2025-02-09T09:05:42.602870Z"
    },
    "trusted": true
   },
   "outputs": [
    {
     "name": "stdout",
     "output_type": "stream",
     "text": [
      "trainable params: 889,349 || all params: 126,871,306 || trainable%: 0.7010\n"
     ]
    }
   ],
   "source": [
    "peft_model.print_trainable_parameters()"
   ]
  },
  {
   "cell_type": "code",
   "execution_count": 22,
   "metadata": {
    "execution": {
     "iopub.execute_input": "2025-02-09T09:05:45.976158Z",
     "iopub.status.busy": "2025-02-09T09:05:45.975797Z",
     "iopub.status.idle": "2025-02-09T09:05:45.980265Z",
     "shell.execute_reply": "2025-02-09T09:05:45.979391Z",
     "shell.execute_reply.started": "2025-02-09T09:05:45.976128Z"
    },
    "trusted": true
   },
   "outputs": [],
   "source": [
    "def compute_metrics(eval_pred):\n",
    "    logits, labels = eval_pred\n",
    "    predictions = logits.argmax(axis=-1)\n",
    "    accuracy = accuracy_score(labels, predictions)\n",
    "    f1 = f1_score(labels, predictions, average=\"weighted\")\n",
    "    return {\"accuracy\": accuracy, \"f1\": f1}"
   ]
  },
  {
   "cell_type": "code",
   "execution_count": 23,
   "metadata": {
    "execution": {
     "iopub.execute_input": "2025-02-09T09:05:48.749549Z",
     "iopub.status.busy": "2025-02-09T09:05:48.749218Z",
     "iopub.status.idle": "2025-02-09T09:05:48.944827Z",
     "shell.execute_reply": "2025-02-09T09:05:48.944160Z",
     "shell.execute_reply.started": "2025-02-09T09:05:48.749520Z"
    },
    "trusted": true
   },
   "outputs": [
    {
     "name": "stderr",
     "output_type": "stream",
     "text": [
      "/usr/local/lib/python3.10/dist-packages/transformers/training_args.py:1525: FutureWarning: `evaluation_strategy` is deprecated and will be removed in version 4.46 of 🤗 Transformers. Use `eval_strategy` instead\n",
      "  warnings.warn(\n",
      "PyTorch: setting up devices\n"
     ]
    }
   ],
   "source": [
    "training_args = TrainingArguments(\n",
    "    output_dir=\"./results\",\n",
    "    evaluation_strategy=\"epoch\",\n",
    "    num_train_epochs=5,\n",
    "    per_device_train_batch_size=16,\n",
    "    learning_rate=0.0001,\n",
    "    log_level=\"info\",\n",
    "    report_to=\"tensorboard\",\n",
    "    logging_dir=\"./logs\",\n",
    "    logging_steps=10,\n",
    ")\n",
    "\n",
    "\n",
    "trainer = Trainer(\n",
    "    model=model,\n",
    "    args=training_args,\n",
    "    train_dataset=train,\n",
    "    eval_dataset=valid,\n",
    "    data_collator=data_collator,\n",
    "    compute_metrics=compute_metrics,\n",
    ")"
   ]
  },
  {
   "cell_type": "code",
   "execution_count": 24,
   "metadata": {
    "execution": {
     "iopub.execute_input": "2025-02-09T09:05:57.797213Z",
     "iopub.status.busy": "2025-02-09T09:05:57.796908Z",
     "iopub.status.idle": "2025-02-09T09:07:55.628169Z",
     "shell.execute_reply": "2025-02-09T09:07:55.627353Z",
     "shell.execute_reply.started": "2025-02-09T09:05:57.797191Z"
    },
    "trusted": true
   },
   "outputs": [
    {
     "name": "stderr",
     "output_type": "stream",
     "text": [
      "The following columns in the training set don't have a corresponding argument in `RobertaForSequenceClassification.forward` and have been ignored: __index_level_0__, text. If __index_level_0__, text are not expected by `RobertaForSequenceClassification.forward`,  you can safely ignore this message.\n",
      "***** Running training *****\n",
      "  Num examples = 490\n",
      "  Num Epochs = 5\n",
      "  Instantaneous batch size per device = 16\n",
      "  Training with DataParallel so batch size has been adjusted to: 32\n",
      "  Total train batch size (w. parallel, distributed & accumulation) = 32\n",
      "  Gradient Accumulation steps = 1\n",
      "  Total optimization steps = 80\n",
      "  Number of trainable parameters = 889,349\n",
      "/usr/local/lib/python3.10/dist-packages/torch/nn/parallel/_functions.py:68: UserWarning: Was asked to gather along dimension 0, but all input tensors were scalars; will instead unsqueeze and return a vector.\n",
      "  warnings.warn('Was asked to gather along dimension 0, but all '\n"
     ]
    },
    {
     "data": {
      "text/html": [
       "\n",
       "    <div>\n",
       "      \n",
       "      <progress value='80' max='80' style='width:300px; height:20px; vertical-align: middle;'></progress>\n",
       "      [80/80 01:55, Epoch 5/5]\n",
       "    </div>\n",
       "    <table border=\"1\" class=\"dataframe\">\n",
       "  <thead>\n",
       " <tr style=\"text-align: left;\">\n",
       "      <th>Epoch</th>\n",
       "      <th>Training Loss</th>\n",
       "      <th>Validation Loss</th>\n",
       "      <th>Accuracy</th>\n",
       "      <th>F1</th>\n",
       "    </tr>\n",
       "  </thead>\n",
       "  <tbody>\n",
       "    <tr>\n",
       "      <td>1</td>\n",
       "      <td>1.526100</td>\n",
       "      <td>1.102990</td>\n",
       "      <td>0.885714</td>\n",
       "      <td>0.885897</td>\n",
       "    </tr>\n",
       "    <tr>\n",
       "      <td>2</td>\n",
       "      <td>1.003500</td>\n",
       "      <td>0.693862</td>\n",
       "      <td>0.914286</td>\n",
       "      <td>0.913689</td>\n",
       "    </tr>\n",
       "    <tr>\n",
       "      <td>3</td>\n",
       "      <td>0.741400</td>\n",
       "      <td>0.410223</td>\n",
       "      <td>0.961905</td>\n",
       "      <td>0.961706</td>\n",
       "    </tr>\n",
       "    <tr>\n",
       "      <td>4</td>\n",
       "      <td>0.443900</td>\n",
       "      <td>0.299337</td>\n",
       "      <td>0.961905</td>\n",
       "      <td>0.961706</td>\n",
       "    </tr>\n",
       "    <tr>\n",
       "      <td>5</td>\n",
       "      <td>0.382700</td>\n",
       "      <td>0.265068</td>\n",
       "      <td>0.961905</td>\n",
       "      <td>0.961706</td>\n",
       "    </tr>\n",
       "  </tbody>\n",
       "</table><p>"
      ],
      "text/plain": [
       "<IPython.core.display.HTML object>"
      ]
     },
     "metadata": {},
     "output_type": "display_data"
    },
    {
     "name": "stderr",
     "output_type": "stream",
     "text": [
      "The following columns in the evaluation set don't have a corresponding argument in `RobertaForSequenceClassification.forward` and have been ignored: __index_level_0__, text. If __index_level_0__, text are not expected by `RobertaForSequenceClassification.forward`,  you can safely ignore this message.\n",
      "\n",
      "***** Running Evaluation *****\n",
      "  Num examples = 105\n",
      "  Batch size = 16\n",
      "/usr/local/lib/python3.10/dist-packages/torch/nn/parallel/_functions.py:68: UserWarning: Was asked to gather along dimension 0, but all input tensors were scalars; will instead unsqueeze and return a vector.\n",
      "  warnings.warn('Was asked to gather along dimension 0, but all '\n",
      "The following columns in the evaluation set don't have a corresponding argument in `RobertaForSequenceClassification.forward` and have been ignored: __index_level_0__, text. If __index_level_0__, text are not expected by `RobertaForSequenceClassification.forward`,  you can safely ignore this message.\n",
      "\n",
      "***** Running Evaluation *****\n",
      "  Num examples = 105\n",
      "  Batch size = 16\n",
      "/usr/local/lib/python3.10/dist-packages/torch/nn/parallel/_functions.py:68: UserWarning: Was asked to gather along dimension 0, but all input tensors were scalars; will instead unsqueeze and return a vector.\n",
      "  warnings.warn('Was asked to gather along dimension 0, but all '\n",
      "The following columns in the evaluation set don't have a corresponding argument in `RobertaForSequenceClassification.forward` and have been ignored: __index_level_0__, text. If __index_level_0__, text are not expected by `RobertaForSequenceClassification.forward`,  you can safely ignore this message.\n",
      "\n",
      "***** Running Evaluation *****\n",
      "  Num examples = 105\n",
      "  Batch size = 16\n",
      "/usr/local/lib/python3.10/dist-packages/torch/nn/parallel/_functions.py:68: UserWarning: Was asked to gather along dimension 0, but all input tensors were scalars; will instead unsqueeze and return a vector.\n",
      "  warnings.warn('Was asked to gather along dimension 0, but all '\n",
      "The following columns in the evaluation set don't have a corresponding argument in `RobertaForSequenceClassification.forward` and have been ignored: __index_level_0__, text. If __index_level_0__, text are not expected by `RobertaForSequenceClassification.forward`,  you can safely ignore this message.\n",
      "\n",
      "***** Running Evaluation *****\n",
      "  Num examples = 105\n",
      "  Batch size = 16\n",
      "/usr/local/lib/python3.10/dist-packages/torch/nn/parallel/_functions.py:68: UserWarning: Was asked to gather along dimension 0, but all input tensors were scalars; will instead unsqueeze and return a vector.\n",
      "  warnings.warn('Was asked to gather along dimension 0, but all '\n",
      "Saving model checkpoint to ./results/checkpoint-80\n",
      "Configuration saved in ./results/checkpoint-80/config.json\n",
      "Model weights saved in ./results/checkpoint-80/model.safetensors\n",
      "The following columns in the evaluation set don't have a corresponding argument in `RobertaForSequenceClassification.forward` and have been ignored: __index_level_0__, text. If __index_level_0__, text are not expected by `RobertaForSequenceClassification.forward`,  you can safely ignore this message.\n",
      "\n",
      "***** Running Evaluation *****\n",
      "  Num examples = 105\n",
      "  Batch size = 16\n",
      "/usr/local/lib/python3.10/dist-packages/torch/nn/parallel/_functions.py:68: UserWarning: Was asked to gather along dimension 0, but all input tensors were scalars; will instead unsqueeze and return a vector.\n",
      "  warnings.warn('Was asked to gather along dimension 0, but all '\n",
      "\n",
      "\n",
      "Training completed. Do not forget to share your model on huggingface.co/models =)\n",
      "\n",
      "\n"
     ]
    },
    {
     "data": {
      "text/plain": [
       "TrainOutput(global_step=80, training_loss=0.78773692548275, metrics={'train_runtime': 117.2151, 'train_samples_per_second': 20.902, 'train_steps_per_second': 0.683, 'total_flos': 651333045350400.0, 'train_loss': 0.78773692548275, 'epoch': 5.0})"
      ]
     },
     "execution_count": 24,
     "metadata": {},
     "output_type": "execute_result"
    }
   ],
   "source": [
    "trainer.train()"
   ]
  },
  {
   "cell_type": "code",
   "execution_count": 25,
   "metadata": {
    "execution": {
     "iopub.execute_input": "2025-02-09T09:08:00.609164Z",
     "iopub.status.busy": "2025-02-09T09:08:00.608856Z",
     "iopub.status.idle": "2025-02-09T09:08:01.134035Z",
     "shell.execute_reply": "2025-02-09T09:08:01.133190Z",
     "shell.execute_reply.started": "2025-02-09T09:08:00.609142Z"
    },
    "trusted": true
   },
   "outputs": [
    {
     "data": {
      "image/png": "[encoded data removed]",
      "text/plain": [
       "<Figure size 1200x600 with 2 Axes>"
      ]
     },
     "metadata": {},
     "output_type": "display_data"
    }
   ],
   "source": [
    "history = trainer.state.log_history\n",
    "\n",
    "history_df = pd.DataFrame(history)\n",
    "\n",
    "train_loss = history_df[history_df[\"loss\"].notnull()][[\"epoch\", \"loss\"]]\n",
    "eval_loss = history_df[history_df[\"eval_loss\"].notnull()][[\"epoch\", \"eval_loss\"]]\n",
    "eval_accuracy = history_df[history_df[\"eval_accuracy\"].notnull()][\n",
    "    [\"epoch\", \"eval_accuracy\"]\n",
    "]\n",
    "eval_f1 = history_df[history_df[\"eval_f1\"].notnull()][[\"epoch\", \"eval_f1\"]]\n",
    "\n",
    "# plot the losses\n",
    "plt.figure(figsize=(12, 6))\n",
    "\n",
    "plt.subplot(1, 2, 1)\n",
    "plt.plot(train_loss[\"epoch\"], train_loss[\"loss\"], label=\"Train Loss\", marker=\"o\")\n",
    "plt.plot(\n",
    "    eval_loss[\"epoch\"], eval_loss[\"eval_loss\"], label=\"Validation Loss\", marker=\"o\"\n",
    ")\n",
    "plt.xlabel(\"Epoch\")\n",
    "plt.ylabel(\"Loss\")\n",
    "plt.title(\"Train and Validation Loss\")\n",
    "plt.legend()\n",
    "\n",
    "# plot the metrics\n",
    "plt.subplot(1, 2, 2)\n",
    "plt.plot(\n",
    "    eval_accuracy[\"epoch\"],\n",
    "    eval_accuracy[\"eval_accuracy\"],\n",
    "    label=\"Validation Accuracy\",\n",
    "    marker=\"o\",\n",
    ")\n",
    "plt.plot(eval_f1[\"epoch\"], eval_f1[\"eval_f1\"], label=\"Validation F1 Score\", marker=\"o\")\n",
    "plt.xlabel(\"Epoch\")\n",
    "plt.ylabel(\"Metrics\")\n",
    "plt.title(\"Validation Accuracy and F1 Score\")\n",
    "plt.legend()\n",
    "\n",
    "plt.tight_layout()\n",
    "plt.show()"
   ]
  },
  {
   "cell_type": "markdown",
   "metadata": {},
   "source": [
    "## Evaluation"
   ]
  },
  {
   "cell_type": "code",
   "execution_count": 26,
   "metadata": {
    "execution": {
     "iopub.execute_input": "2025-02-09T09:09:53.868840Z",
     "iopub.status.busy": "2025-02-09T09:09:53.868472Z",
     "iopub.status.idle": "2025-02-09T09:09:56.016133Z",
     "shell.execute_reply": "2025-02-09T09:09:56.015434Z",
     "shell.execute_reply.started": "2025-02-09T09:09:53.868811Z"
    },
    "trusted": true
   },
   "outputs": [
    {
     "name": "stderr",
     "output_type": "stream",
     "text": [
      "The following columns in the evaluation set don't have a corresponding argument in `RobertaForSequenceClassification.forward` and have been ignored: __index_level_0__, text. If __index_level_0__, text are not expected by `RobertaForSequenceClassification.forward`,  you can safely ignore this message.\n",
      "\n",
      "***** Running Evaluation *****\n",
      "  Num examples = 106\n",
      "  Batch size = 16\n",
      "/usr/local/lib/python3.10/dist-packages/torch/nn/parallel/_functions.py:68: UserWarning: Was asked to gather along dimension 0, but all input tensors were scalars; will instead unsqueeze and return a vector.\n",
      "  warnings.warn('Was asked to gather along dimension 0, but all '\n"
     ]
    },
    {
     "data": {
      "text/html": [
       "\n",
       "    <div>\n",
       "      \n",
       "      <progress value='7' max='7' style='width:300px; height:20px; vertical-align: middle;'></progress>\n",
       "      [7/7 00:01]\n",
       "    </div>\n",
       "    "
      ],
      "text/plain": [
       "<IPython.core.display.HTML object>"
      ]
     },
     "metadata": {},
     "output_type": "display_data"
    },
    {
     "name": "stdout",
     "output_type": "stream",
     "text": [
      "Test Accuracy: 0.8962264150943396\n",
      "Test F1 Score: 0.8956321306199622\n"
     ]
    }
   ],
   "source": [
    "test_results = trainer.evaluate(test)\n",
    "print(f\"Test Accuracy: {test_results['eval_accuracy']}\")\n",
    "print(f\"Test F1 Score: {test_results['eval_f1']}\")"
   ]
  },
  {
   "cell_type": "markdown",
   "metadata": {},
   "source": [
    "## Save the model"
   ]
  },
  {
   "cell_type": "code",
   "execution_count": 27,
   "metadata": {
    "execution": {
     "iopub.execute_input": "2025-02-09T09:10:13.648619Z",
     "iopub.status.busy": "2025-02-09T09:10:13.648336Z",
     "iopub.status.idle": "2025-02-09T09:10:13.847786Z",
     "shell.execute_reply": "2025-02-09T09:10:13.847074Z",
     "shell.execute_reply.started": "2025-02-09T09:10:13.648599Z"
    },
    "trusted": true
   },
   "outputs": [
    {
     "name": "stderr",
     "output_type": "stream",
     "text": [
      "loading configuration file config.json from cache at /root/.cache/huggingface/hub/models--youscan--ukr-roberta-base/snapshots/f8689ddd740b7a3277f5205cd1d5dc5481699bb5/config.json\n",
      "Model config RobertaConfig {\n",
      "  \"architectures\": [\n",
      "    \"RobertaForMaskedLM\"\n",
      "  ],\n",
      "  \"attention_probs_dropout_prob\": 0.1,\n",
      "  \"bos_token_id\": 0,\n",
      "  \"classifier_dropout\": null,\n",
      "  \"eos_token_id\": 2,\n",
      "  \"hidden_act\": \"gelu\",\n",
      "  \"hidden_dropout_prob\": 0.1,\n",
      "  \"hidden_size\": 768,\n",
      "  \"initializer_range\": 0.02,\n",
      "  \"intermediate_size\": 3072,\n",
      "  \"layer_norm_eps\": 1e-12,\n",
      "  \"max_position_embeddings\": 514,\n",
      "  \"model_type\": \"roberta\",\n",
      "  \"num_attention_heads\": 12,\n",
      "  \"num_hidden_layers\": 12,\n",
      "  \"pad_token_id\": 1,\n",
      "  \"position_embedding_type\": \"absolute\",\n",
      "  \"transformers_version\": \"4.44.2\",\n",
      "  \"type_vocab_size\": 1,\n",
      "  \"use_cache\": true,\n",
      "  \"vocab_size\": 52000\n",
      "}\n",
      "\n"
     ]
    },
    {
     "name": "stdout",
     "output_type": "stream",
     "text": [
      "Model saved to ./saved_model_ukr\n"
     ]
    }
   ],
   "source": [
    "save_directory = \"./saved_model_ukr\"\n",
    "peft_model.save_pretrained(save_directory)\n",
    "print(f\"Model saved to {save_directory}\")"
   ]
  }
 ],
 "metadata": {
  "kaggle": {
   "accelerator": "nvidiaTeslaT4",
   "dataSources": [
    {
     "datasetId": 4295346,
     "sourceId": 7389273,
     "sourceType": "datasetVersion"
    },
    {
     "datasetId": 6631802,
     "sourceId": 10701382,
     "sourceType": "datasetVersion"
    }
   ],
   "dockerImageVersionId": 30822,
   "isGpuEnabled": true,
   "isInternetEnabled": true,
   "language": "python",
   "sourceType": "notebook"
  },
  "kernelspec": {
   "display_name": "Python 3",
   "language": "python",
   "name": "python3"
  },
  "language_info": {
   "codemirror_mode": {
    "name": "ipython",
    "version": 3
   },
   "file_extension": ".py",
   "mimetype": "text/x-python",
   "name": "python",
   "nbconvert_exporter": "python",
   "pygments_lexer": "ipython3",
   "version": "3.10.12"
  }
 },
 "nbformat": 4,
 "nbformat_minor": 4
}
